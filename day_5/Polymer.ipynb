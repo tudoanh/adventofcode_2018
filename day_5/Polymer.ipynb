{
 "cells": [
  {
   "cell_type": "code",
   "execution_count": null,
   "metadata": {},
   "outputs": [],
   "source": [
    "import itertools"
   ]
  },
  {
   "cell_type": "code",
   "execution_count": null,
   "metadata": {},
   "outputs": [],
   "source": [
    "f = open(\"polymers.txt\", 'rt')"
   ]
  },
  {
   "cell_type": "code",
   "execution_count": null,
   "metadata": {},
   "outputs": [],
   "source": [
    "polymers = f.readline().strip()"
   ]
  },
  {
   "cell_type": "code",
   "execution_count": null,
   "metadata": {},
   "outputs": [],
   "source": [
    "polymers"
   ]
  },
  {
   "cell_type": "code",
   "execution_count": null,
   "metadata": {},
   "outputs": [],
   "source": [
    "def is_same_type(a, b):\n",
    "    if a.lower() == b.lower():\n",
    "        return True\n",
    "    return False"
   ]
  },
  {
   "cell_type": "code",
   "execution_count": null,
   "metadata": {},
   "outputs": [],
   "source": [
    "def is_opposite_polarity(a, b):\n",
    "    if str.isupper(a) and str.islower(b) or str.islower(a) and str.isupper(b):\n",
    "        return True\n",
    "    return False"
   ]
  },
  {
   "cell_type": "code",
   "execution_count": null,
   "metadata": {},
   "outputs": [],
   "source": [
    "def detect(seq):\n",
    "    if len(seq) == 3:\n",
    "        new_seq = list(itertools.combinations(seq, 2))\n",
    "        same_type = list(map(lambda x: is_same_type(*x), new_seq))\n",
    "        opposite_polarity = list(map(lambda x: is_opposite_polarity(*x), new_seq))\n",
    "        should_destroy = list(zip(same_type, opposite_polarity))\n",
    "        should_destroy.pop(1)\n",
    "        should_destroy = [all(i) for i in should_destroy[:]]\n",
    "        if all(should_destroy):\n",
    "            return 0, 3\n",
    "        elif should_destroy[0]:\n",
    "            return 0, 2\n",
    "        elif should_destroy[1]:\n",
    "            return 1, 3\n",
    "        else:\n",
    "            return None"
   ]
  },
  {
   "cell_type": "code",
   "execution_count": null,
   "metadata": {},
   "outputs": [],
   "source": [
    "def reaction(seq):\n",
    "    start_idx = 0\n",
    "    end_idx = 3\n",
    "    check_seq = []\n",
    "    if not seq:\n",
    "        return ''\n",
    "    while True:\n",
    "        try:\n",
    "            seq[end_idx]\n",
    "        except IndexError:\n",
    "            print(\"End\")\n",
    "            break\n",
    "        check_seq = seq[start_idx:end_idx]\n",
    "        check_result = detect(check_seq)\n",
    "        if check_result:\n",
    "            start, stop = check_result\n",
    "            seq = seq.replace(seq[start_idx + start:start_idx + stop], '')\n",
    "            start_idx = 0\n",
    "            end_idx = 3\n",
    "        else:\n",
    "            start_idx += 1\n",
    "            end_idx += 1\n",
    "    return seq"
   ]
  },
  {
   "cell_type": "code",
   "execution_count": null,
   "metadata": {
    "scrolled": true
   },
   "outputs": [],
   "source": [
    "res = reaction(polymers)"
   ]
  },
  {
   "cell_type": "code",
   "execution_count": null,
   "metadata": {},
   "outputs": [],
   "source": [
    "len(res)"
   ]
  },
  {
   "cell_type": "code",
   "execution_count": null,
   "metadata": {},
   "outputs": [],
   "source": []
  }
 ],
 "metadata": {
  "kernelspec": {
   "display_name": "Python 3",
   "language": "python",
   "name": "python3"
  },
  "language_info": {
   "codemirror_mode": {
    "name": "ipython",
    "version": 3
   },
   "file_extension": ".py",
   "mimetype": "text/x-python",
   "name": "python",
   "nbconvert_exporter": "python",
   "pygments_lexer": "ipython3",
   "version": "3.5.2"
  }
 },
 "nbformat": 4,
 "nbformat_minor": 2
}
