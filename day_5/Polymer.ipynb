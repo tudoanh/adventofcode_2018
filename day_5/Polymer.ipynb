{
 "cells": [
  {
   "cell_type": "markdown",
   "metadata": {},
   "source": [
    "# Advent of Code 2018 - Day 5\n",
    "https://adventofcode.com/2018/day/5"
   ]
  },
  {
   "cell_type": "markdown",
   "metadata": {},
   "source": [
    "## First quest\n",
    "How many units remain after fully reacting the polymer you scanned?"
   ]
  },
  {
   "cell_type": "code",
   "execution_count": null,
   "metadata": {},
   "outputs": [],
   "source": [
    "import itertools"
   ]
  },
  {
   "cell_type": "code",
   "execution_count": null,
   "metadata": {},
   "outputs": [],
   "source": [
    "f = open(\"polymers.txt\", 'rt')"
   ]
  },
  {
   "cell_type": "code",
   "execution_count": null,
   "metadata": {},
   "outputs": [],
   "source": [
    "polymers = f.readline().strip()"
   ]
  },
  {
   "cell_type": "code",
   "execution_count": null,
   "metadata": {},
   "outputs": [],
   "source": [
    "def is_same_type(a, b):\n",
    "    if a.lower() == b.lower():\n",
    "        return True\n",
    "    return False"
   ]
  },
  {
   "cell_type": "code",
   "execution_count": null,
   "metadata": {},
   "outputs": [],
   "source": [
    "def is_opposite_polarity(a, b):\n",
    "    if str.isupper(a) and str.islower(b) or str.islower(a) and str.isupper(b):\n",
    "        return True\n",
    "    return False"
   ]
  },
  {
   "cell_type": "code",
   "execution_count": null,
   "metadata": {},
   "outputs": [],
   "source": [
    "def detect(seq):\n",
    "    if len(seq) == 3:\n",
    "        new_seq = list(itertools.combinations(seq, 2))\n",
    "        same_type = list(map(lambda x: is_same_type(*x), new_seq))\n",
    "        opposite_polarity = list(map(lambda x: is_opposite_polarity(*x), new_seq))\n",
    "        should_destroy = list(zip(same_type, opposite_polarity))\n",
    "        should_destroy.pop(1)  # Because we do not need to check the first and the last char\n",
    "        should_destroy = [all(i) for i in should_destroy[:]]\n",
    "        # Return the fisrt and last index step we need to remove\n",
    "        if all(should_destroy):\n",
    "            return 0, 3\n",
    "        elif should_destroy[0]:\n",
    "            return 0, 2\n",
    "        elif should_destroy[1]:\n",
    "            return 1, 3\n",
    "        else:\n",
    "            return None"
   ]
  },
  {
   "cell_type": "code",
   "execution_count": null,
   "metadata": {},
   "outputs": [],
   "source": [
    "def reaction(seq):\n",
    "    start_idx = 0\n",
    "    end_idx = 3  # We will scan each 3 units at a time.\n",
    "    check_seq = []\n",
    "    if not seq:\n",
    "        return ''\n",
    "    while True:\n",
    "        try:\n",
    "            seq[end_idx]\n",
    "        except IndexError:\n",
    "            break\n",
    "        check_seq = seq[start_idx:end_idx]\n",
    "        check_result = detect(check_seq)\n",
    "        if check_result:  # If reaction happened, remove them from the sequence. Then restart the index and check from beginning\n",
    "            start, stop = check_result\n",
    "            seq = seq.replace(seq[start_idx + start:start_idx + stop], '')  # Remove the units that reacting to each other\n",
    "            start_idx = 0\n",
    "            end_idx = 3\n",
    "        else:\n",
    "            start_idx += 1\n",
    "            end_idx += 1\n",
    "    return seq"
   ]
  },
  {
   "cell_type": "code",
   "execution_count": null,
   "metadata": {
    "scrolled": false
   },
   "outputs": [],
   "source": [
    "res = reaction(polymers)"
   ]
  },
  {
   "cell_type": "code",
   "execution_count": null,
   "metadata": {},
   "outputs": [],
   "source": [
    "return len(res)"
   ]
  },
  {
   "cell_type": "markdown",
   "metadata": {},
   "source": [
    "## Second quest\n",
    "What is the length of the shortest polymer you can produce by removing all units of exactly one type and fully reacting the result?"
   ]
  },
  {
   "cell_type": "code",
   "execution_count": null,
   "metadata": {},
   "outputs": [],
   "source": [
    "unique_char_set = list(set(res.lower()))"
   ]
  },
  {
   "cell_type": "code",
   "execution_count": null,
   "metadata": {},
   "outputs": [],
   "source": [
    "new_res = []"
   ]
  },
  {
   "cell_type": "code",
   "execution_count": null,
   "metadata": {},
   "outputs": [],
   "source": [
    "for char in unique_char_set:\n",
    "    s = res.replace(char, '')\n",
    "    s = s.replace(char.upper(), '')\n",
    "    new_res.append(s)"
   ]
  },
  {
   "cell_type": "code",
   "execution_count": null,
   "metadata": {},
   "outputs": [],
   "source": [
    "k = []\n",
    "for r in new_res:\n",
    "    k.append(reaction(r))\n"
   ]
  },
  {
   "cell_type": "code",
   "execution_count": null,
   "metadata": {},
   "outputs": [],
   "source": [
    "len(sorted(k, key=len)[0])"
   ]
  }
 ],
 "metadata": {
  "kernelspec": {
   "display_name": "Python 3",
   "language": "python",
   "name": "python3"
  },
  "language_info": {
   "codemirror_mode": {
    "name": "ipython",
    "version": 3
   },
   "file_extension": ".py",
   "mimetype": "text/x-python",
   "name": "python",
   "nbconvert_exporter": "python",
   "pygments_lexer": "ipython3",
   "version": "3.5.2"
  }
 },
 "nbformat": 4,
 "nbformat_minor": 2
}
