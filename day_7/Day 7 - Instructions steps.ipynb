{
 "cells": [
  {
   "cell_type": "markdown",
   "metadata": {},
   "source": [
    "Tham khảo code của https://github.com/badouralix/advent-of-code-2018 vì không nghĩ ra cách làm"
   ]
  },
  {
   "cell_type": "code",
   "execution_count": 1,
   "metadata": {},
   "outputs": [],
   "source": [
    "f = open(\"input.txt\", 'rt')"
   ]
  },
  {
   "cell_type": "code",
   "execution_count": 2,
   "metadata": {},
   "outputs": [],
   "source": [
    "s = f.read()"
   ]
  },
  {
   "cell_type": "code",
   "execution_count": 3,
   "metadata": {},
   "outputs": [],
   "source": [
    "paths = [line.split(\" \") for line in s.splitlines()]\n",
    "paths = [(d[1], d[7]) for d in paths]"
   ]
  },
  {
   "cell_type": "code",
   "execution_count": 4,
   "metadata": {},
   "outputs": [],
   "source": [
    "tasks = {}\n",
    "for before, after in paths:\n",
    "    if before not in tasks:\n",
    "        tasks[before] = []\n",
    "    if after not in tasks:\n",
    "        tasks[after] = []\n",
    "    tasks[after].append(before)\n",
    "\n",
    "tasks = sorted(tasks.items(), key=lambda t: t[0])"
   ]
  },
  {
   "cell_type": "code",
   "execution_count": 5,
   "metadata": {
    "scrolled": true
   },
   "outputs": [
    {
     "data": {
      "text/plain": [
       "[('A', ['F']),\n",
       " ('B', ['W', 'P', 'Y', 'C', 'E', 'Q', 'D', 'Z', 'L', 'H']),\n",
       " ('C', []),\n",
       " ('D', ['Y', 'H', 'S', 'C', 'G', 'U', 'W']),\n",
       " ('E', ['L', 'Q', 'R', 'X', 'C', 'I', 'A', 'D']),\n",
       " ('F', ['X']),\n",
       " ('G', []),\n",
       " ('H', ['I', 'A']),\n",
       " ('I', ['F']),\n",
       " ('J', ['M', 'L', 'Y', 'F']),\n",
       " ('K', ['C']),\n",
       " ('L', ['H', 'Y', 'N', 'U', 'A']),\n",
       " ('M', ['C']),\n",
       " ('N', ['Y', 'U']),\n",
       " ('O', ['R', 'I', 'A', 'E', 'W', 'S', 'U', 'J', 'L']),\n",
       " ('P', ['J', 'O', 'W', 'Y', 'S', 'I']),\n",
       " ('Q', ['S', 'D', 'Y', 'I']),\n",
       " ('R', ['T', 'Y', 'L', 'H', 'K', 'D', 'W']),\n",
       " ('S', ['X', 'U']),\n",
       " ('T', ['Q', 'L', 'S', 'F', 'U', 'D']),\n",
       " ('U', []),\n",
       " ('V', ['F', 'N', 'E', 'Z', 'B', 'Y', 'P', 'R', 'D', 'H']),\n",
       " ('W', ['G', 'U']),\n",
       " ('X', []),\n",
       " ('Y', ['C', 'A', 'G']),\n",
       " ('Z', ['K', 'X', 'P', 'O', 'Q', 'T', 'D', 'Y', 'G'])]"
      ]
     },
     "execution_count": 5,
     "metadata": {},
     "output_type": "execute_result"
    }
   ],
   "source": [
    "tasks"
   ]
  },
  {
   "cell_type": "code",
   "execution_count": 6,
   "metadata": {},
   "outputs": [],
   "source": [
    "done_ord = []\n",
    "done = set()\n",
    "while len(done) != len(tasks):\n",
    "    for after, befores in tasks:\n",
    "        if after not in done and all(t in done for t in befores):\n",
    "            done.add(after)\n",
    "            done_ord.append(after)\n",
    "            break"
   ]
  },
  {
   "cell_type": "code",
   "execution_count": 7,
   "metadata": {},
   "outputs": [
    {
     "data": {
      "text/plain": [
       "'CGKMUWXFAIHSYDNLJQTREOPZBV'"
      ]
     },
     "execution_count": 7,
     "metadata": {},
     "output_type": "execute_result"
    }
   ],
   "source": [
    "\"\".join(done_ord)"
   ]
  },
  {
   "cell_type": "code",
   "execution_count": null,
   "metadata": {},
   "outputs": [],
   "source": []
  }
 ],
 "metadata": {
  "kernelspec": {
   "display_name": "Python 3",
   "language": "python",
   "name": "python3"
  },
  "language_info": {
   "codemirror_mode": {
    "name": "ipython",
    "version": 3
   },
   "file_extension": ".py",
   "mimetype": "text/x-python",
   "name": "python",
   "nbconvert_exporter": "python",
   "pygments_lexer": "ipython3",
   "version": "3.5.2"
  }
 },
 "nbformat": 4,
 "nbformat_minor": 2
}
